{
 "cells": [
  {
   "cell_type": "markdown",
   "metadata": {},
   "source": [
    "# Criteria2Query+ - Extension of Criteria2Query\n",
    "## Background\n",
    "Criteria2Query (C2Q) is a tool that extracts eligibility criteria from ClinicalTrials.gov. It uses CoreNLP from Stanford to extract and identify candidate entities for concept mapping to OMOP CDM Standard Vocabularies (such as LOINC and SNOMED-CT). After extraction, the entities are mapped to concepts using a Lucene-based tool, Usagi. The best candidate concept is then assigned a concept set in OHDSI's ATLAS tool and all possible candidates are provided to the user. The user can then either select the most appropriate concept set, or allow C2Q to automatically generate a JSON formatted query for ATLAS. After selection, the query is submitted to ATLAS so that the user now has a cohort for querying a variety of databases.\n",
    "\n",
    "## Motivation\n",
    "Though Usagi has some successes, its downside is a reliance on string-based similarity for scoring mappings. For example, the text \"_neurological disease_\" can map to \"_neurological disorder_\" and \"_urologic disease_,\" but \"_urologic disease_\" has a score of 0.90, due to the limited character variance, so Usagi will provide \"_urologic disease_\" as its best option for mapping.\n",
    "\n",
    "## Methodology\n",
    "As an alternative first step, I propose using MetaMap as it generally performs better than Usagi at mapping concepts. Criteria2Query+ is a tool that could be used as an add-on to C2Q. C2Q+ would take the parsed eligibility criteria and then map those terms to MetaMap using a series of options that are relatively synonymous to those of CoreNLP and OMOP CDM tools. After obtaining the CUI from the UMLS associated with OMOP CDM Standard Vocabularies, C2Q+ then maps the CUIs back to the source vocabularies. C2Q+ then compares the MetaMap score and Usagi score for a given term and takes the better of the two to return to the user for a mapping as the \"best option.\" It will still provide all possible concept sets for manual selection. \n",
    "\n",
    "## Evaluation\n",
    "For my gold-standard, I relied on the 18 clinical trials that were chosen for evaluation by Yuan et al. 2017. After the entities were extracted from the NLP step and marked with their respective domains, I compared these tokens to the corresponding mappings linked in ATLAS, which I classified as correct, partially-correct, incorrect, or N/A for entities that were not mapped. For my analysis, I calculated both loose and strict precision, recall, and F-1 scores under the following definitions:\n",
    "* **Loose includes partially-correct mappings**\n",
    "* **Strict excludes partially-correct mappings**\n",
    "* $Precision = \\frac{correct \\hspace{1mm} mappings}{total \\hspace{1mm} possible \\hspace{1mm} mappings}$\n",
    "* $Recall = \\frac{correct \\hspace{1mm} mappings}{total \\hspace{1mm} mappings}$\n",
    "* $F_1 \\hspace{1mm} Score = 2 * (\\frac{precision \\hspace{1mm} * \\hspace{1mm} recall}{precision \\hspace{1mm} + \\hspace{1mm} recall})$"
   ]
  },
  {
   "cell_type": "markdown",
   "metadata": {},
   "source": [
    "## Get list of NCTIDs to review"
   ]
  },
  {
   "cell_type": "code",
   "execution_count": 14,
   "metadata": {
    "scrolled": true
   },
   "outputs": [],
   "source": [
    "import csv\n",
    "\n",
    "#Uncomment the below code to create a list of NCTIDs with user input\n",
    "#ids = input(\"Enter NCTIDs separated by spaces: \")\n",
    "#idsList = ids.split()\n",
    "#print(idsList)\n",
    "\n",
    "#Read csv file\n",
    "with open('trials.csv', 'r') as csvfile:\n",
    "    reader = csv.reader(csvfile)\n",
    "    trials = list(reader)\n",
    "\n",
    "#Eliminate exterior list\n",
    "t = []\n",
    "for nct in trials:\n",
    "    t.append(nct[0])\n",
    "\n",
    "trials = t"
   ]
  },
  {
   "cell_type": "markdown",
   "metadata": {},
   "source": [
    "## Use Selenium to fetch each trial, parse the criteria, and download JSON file\n",
    "Rename the files of the form: [trial-ID].json"
   ]
  },
  {
   "cell_type": "code",
   "execution_count": 138,
   "metadata": {
    "scrolled": true
   },
   "outputs": [],
   "source": [
    "from selenium import webdriver\n",
    "from selenium.webdriver.common.action_chains import ActionChains\n",
    "from selenium.webdriver.common.by import By\n",
    "from selenium.webdriver.support.ui import WebDriverWait\n",
    "from selenium.webdriver.support import expected_conditions as EC\n",
    "import pandas as pd\n",
    "import os\n",
    "import shutil\n",
    "import time\n",
    "\n",
    "#Not very reliable for len(trials) > 4\n",
    "#To attempt full automation, replace for i in range(x, y) with for t in trials and trials[i] with t\n",
    "#Current form is for small batches, which is better considering that the scrapping is not entirely reliable and\n",
    "#is not guaranteed to work 100% of the time.\n",
    "\n",
    "for i in range(4, 5):\n",
    "\n",
    "    #Connect to C2Q\n",
    "    driver = webdriver.Chrome(\"/Users/sal/Downloads/chromedriver\")\n",
    "    driver.get(\"http://www.ohdsi.org/web/criteria2query/\")\n",
    "\n",
    "    #Load clinical trial\n",
    "    nctid = driver.find_element_by_id('nctid')\n",
    "    fetchct = driver.find_element_by_id('fetchct')\n",
    "    nctid.send_keys(trials[i])\n",
    "    ActionChains(driver).click(fetchct).perform()\n",
    "\n",
    "    #Parse the criteria\n",
    "    wait = WebDriverWait(driver, 20)\n",
    "    parse = wait.until(EC.element_to_be_clickable((By.ID, 'start')))\n",
    "    ActionChains(driver).click(parse).perform()\n",
    "\n",
    "    #Extract JSON text\n",
    "    download = wait.until(EC.element_to_be_clickable((By.ID, 'downloadfile')))\n",
    "    ActionChains(driver).click(download).perform()\n",
    "\n",
    "    time.sleep(5)\n",
    "    driver.quit()\n",
    "\n",
    "    #Move the file from downloads to the JSON_Formatted_Trials folder\n",
    "    source = '/Users/sal/Downloads/Criteria2Query.json'\n",
    "    destination = '/Users/sal/Desktop/DBMI/SymbolicMethods/ConceptMapping/JSON_Formatted_Trials'\n",
    "\n",
    "    shutil.move(source, destination)\n",
    "\n",
    "    #Rename the file in the JSON folder\n",
    "    if os.path.exists('Criteria2Query.json'):\n",
    "        src = os.path.realpath('Criteria2Query.json')\n",
    "        os.rename('Criteria2Query.json', trials[i] +'.json')"
   ]
  },
  {
   "cell_type": "markdown",
   "metadata": {},
   "source": [
    "## Run extraction of on each trial"
   ]
  },
  {
   "cell_type": "code",
   "execution_count": 177,
   "metadata": {
    "scrolled": true
   },
   "outputs": [],
   "source": [
    "import json\n",
    "import pandas as pd\n",
    "\n",
    "#Reformat the terms from the .json file\n",
    "#extraction[] contains all of the trials in the format {text : [{term : domain}]}\n",
    "extraction = []\n",
    "\n",
    "for nct in trials:\n",
    "    with open(\"./JSON_Formatted_Trials/\"+ nct + \".json\", \"r\") as read_file:\n",
    "        data = json.load(read_file)\n",
    "\n",
    "    trial = pd.DataFrame.from_dict(data)    \n",
    "    exclusion = trial.iat[0,0]\n",
    "    inclusion = trial.iat[1,0]\n",
    "\n",
    "    #trial[0,0] is the exclusion criteria\n",
    "    #trial[1,0] is the inclusion criteria\n",
    "    \n",
    "    m = []\n",
    "    for e in exclusion:\n",
    "        phrase = e.get('sents')[0].get('text')\n",
    "        q = []\n",
    "        for t in e.get('sents')[0].get('terms'):\n",
    "            entity = t.get('text')\n",
    "            domain = t.get('categorey')\n",
    "            q.append([entity, domain])\n",
    "        m.append({phrase:q})\n",
    "\n",
    "    for i in inclusion:\n",
    "        phrase = i.get('sents')[0].get('text')\n",
    "        q = []\n",
    "        for t in i.get('sents')[0].get('terms'):\n",
    "            entity = t.get('text')\n",
    "            domain = t.get('categorey')\n",
    "            q.append([entity, domain])\n",
    "        m.append({phrase:q})\n",
    "    \n",
    "    extraction.append(m)"
   ]
  },
  {
   "cell_type": "code",
   "execution_count": 178,
   "metadata": {},
   "outputs": [
    {
     "data": {
      "text/plain": [
       "[{' Contraindication for the use of the study medication or other beta-lactam antibiotics , e.g. patients with advanced renal impairment or patients requiring hemodialysis ': [['Contraindication',\n",
       "    'Condition'],\n",
       "   ['other beta-lactam antibiotics', 'Drug'],\n",
       "   ['advanced renal impairment', 'Condition'],\n",
       "   ['hemodialysis', 'Procedure']]},\n",
       " {' Antibiotic therapy in the two weeks prior to the start of the study ': [['Antibiotic therapy',\n",
       "    'Procedure'],\n",
       "   ['in the two weeks', 'Temporal']]},\n",
       " {' Patients with an advanced incurable disease ': [['disease', 'Condition']]},\n",
       " {' Patients with a hematologic/oncologic disease ( leukemia , lymphoma ) ': [['hematologic/oncologic disease',\n",
       "    'Condition'],\n",
       "   ['leukemia', 'Condition'],\n",
       "   ['lymphoma', 'Condition']]},\n",
       " {' Patients on immunosuppressants ': [['immunosuppressants', 'Drug']]},\n",
       " {' Complications of sigmoid diverticulitis leading to an immediate indication for surgery ': [['Complications',\n",
       "    'Condition'],\n",
       "   ['sigmoid diverticulitis', 'Condition'],\n",
       "   ['indication', 'Condition'],\n",
       "   ['surgery', 'Procedure']]},\n",
       " {' Patients who have hypersensitivity to beta-lactam antibiotics ': [['hypersensitivity',\n",
       "    'Condition'],\n",
       "   ['beta-lactam antibiotics', 'Drug']]},\n",
       " {' Female patients who are pregnant or nursing or who could become pregnant during the study ': [['Female',\n",
       "    'Demographic'],\n",
       "   ['pregnant', 'Condition']]},\n",
       " {' Participation in another clinical study or use of another study drug within the four weeks prior to enrollment in the study or use of another drug during the study ': [['another study drug',\n",
       "    'Drug'],\n",
       "   ['another drug', 'Drug'],\n",
       "   ['within the four weeks', 'Temporal']]},\n",
       " {' Each patient can be enrolled only once in the study ': []},\n",
       " {' At least three of the following signs or symptoms of an acute attack of sigmoid diverticulitis must be present : * Fever ( body temperature > 38 °C , sublingual ) , * Abdominal tenderness , * Leukocytosis ( leukocytes > 10,000 / µl ) and left shift of the differential blood count ( > 1 % band forms ) , * Elevated CRP ( > 20 mg/l ) ': [['symptoms',\n",
       "    'Condition'],\n",
       "   ['sigmoid diverticulitis', 'Condition'],\n",
       "   ['* Fever ( body temperature', 'Measurement'],\n",
       "   ['Abdominal tenderness', 'Condition'],\n",
       "   ['* Leukocytosis', 'Condition'],\n",
       "   ['leukocytes', 'Measurement'],\n",
       "   ['differential blood count', 'Measurement'],\n",
       "   ['* Elevated CRP', 'Measurement'],\n",
       "   ['> 38 °C', 'Value'],\n",
       "   ['> 10,000 / µl', 'Value'],\n",
       "   ['> 1 %', 'Value'],\n",
       "   ['> 20 mg/l', 'Value']]},\n",
       " {' Evidence of sigmoid diverticulitis by contrast enema ': [['sigmoid diverticulitis',\n",
       "    'Condition'],\n",
       "   ['contrast enema', 'Condition']]},\n",
       " {' CT evidence of wall thickening in the sigmoid intestine ': [['Central African Republic',\n",
       "    'Procedure']]},\n",
       " {' Decision in favor of conservative therapy on the basis of the case history and diagnosis ': []}]"
      ]
     },
     "execution_count": 178,
     "metadata": {},
     "output_type": "execute_result"
    }
   ],
   "source": [
    "extraction[0]"
   ]
  },
  {
   "cell_type": "markdown",
   "metadata": {},
   "source": [
    "## Open MetaMap servers and send terms to MetaMap in a txt file\n",
    "Include line breaks and end each file with '\\n'\n",
    "\n",
    "Export the output of each to (NCTID)\\_MM.txt"
   ]
  },
  {
   "cell_type": "code",
   "execution_count": 202,
   "metadata": {
    "scrolled": true
   },
   "outputs": [
    {
     "ename": "TimeoutExpired",
     "evalue": "Command '['/Users/sal/Desktop/DBMI/SymbolicMethods/ConceptMapping/public_mm/bin/wsdserverctl start']' timed out after 60 seconds",
     "output_type": "error",
     "traceback": [
      "\u001b[0;31m---------------------------------------------------------------------------\u001b[0m",
      "\u001b[0;31mTimeoutExpired\u001b[0m                            Traceback (most recent call last)",
      "\u001b[0;32m/opt/anaconda3/lib/python3.7/subprocess.py\u001b[0m in \u001b[0;36mrun\u001b[0;34m(input, capture_output, timeout, check, *popenargs, **kwargs)\u001b[0m\n\u001b[1;32m    473\u001b[0m         \u001b[0;32mtry\u001b[0m\u001b[0;34m:\u001b[0m\u001b[0;34m\u001b[0m\u001b[0;34m\u001b[0m\u001b[0m\n\u001b[0;32m--> 474\u001b[0;31m             \u001b[0mstdout\u001b[0m\u001b[0;34m,\u001b[0m \u001b[0mstderr\u001b[0m \u001b[0;34m=\u001b[0m \u001b[0mprocess\u001b[0m\u001b[0;34m.\u001b[0m\u001b[0mcommunicate\u001b[0m\u001b[0;34m(\u001b[0m\u001b[0minput\u001b[0m\u001b[0;34m,\u001b[0m \u001b[0mtimeout\u001b[0m\u001b[0;34m=\u001b[0m\u001b[0mtimeout\u001b[0m\u001b[0;34m)\u001b[0m\u001b[0;34m\u001b[0m\u001b[0;34m\u001b[0m\u001b[0m\n\u001b[0m\u001b[1;32m    475\u001b[0m         \u001b[0;32mexcept\u001b[0m \u001b[0mTimeoutExpired\u001b[0m\u001b[0;34m:\u001b[0m\u001b[0;34m\u001b[0m\u001b[0;34m\u001b[0m\u001b[0m\n",
      "\u001b[0;32m/opt/anaconda3/lib/python3.7/subprocess.py\u001b[0m in \u001b[0;36mcommunicate\u001b[0;34m(self, input, timeout)\u001b[0m\n\u001b[1;32m    938\u001b[0m             \u001b[0;32mtry\u001b[0m\u001b[0;34m:\u001b[0m\u001b[0;34m\u001b[0m\u001b[0;34m\u001b[0m\u001b[0m\n\u001b[0;32m--> 939\u001b[0;31m                 \u001b[0mstdout\u001b[0m\u001b[0;34m,\u001b[0m \u001b[0mstderr\u001b[0m \u001b[0;34m=\u001b[0m \u001b[0mself\u001b[0m\u001b[0;34m.\u001b[0m\u001b[0m_communicate\u001b[0m\u001b[0;34m(\u001b[0m\u001b[0minput\u001b[0m\u001b[0;34m,\u001b[0m \u001b[0mendtime\u001b[0m\u001b[0;34m,\u001b[0m \u001b[0mtimeout\u001b[0m\u001b[0;34m)\u001b[0m\u001b[0;34m\u001b[0m\u001b[0;34m\u001b[0m\u001b[0m\n\u001b[0m\u001b[1;32m    940\u001b[0m             \u001b[0;32mexcept\u001b[0m \u001b[0mKeyboardInterrupt\u001b[0m\u001b[0;34m:\u001b[0m\u001b[0;34m\u001b[0m\u001b[0;34m\u001b[0m\u001b[0m\n",
      "\u001b[0;32m/opt/anaconda3/lib/python3.7/subprocess.py\u001b[0m in \u001b[0;36m_communicate\u001b[0;34m(self, input, endtime, orig_timeout)\u001b[0m\n\u001b[1;32m   1681\u001b[0m                     \u001b[0mready\u001b[0m \u001b[0;34m=\u001b[0m \u001b[0mselector\u001b[0m\u001b[0;34m.\u001b[0m\u001b[0mselect\u001b[0m\u001b[0;34m(\u001b[0m\u001b[0mtimeout\u001b[0m\u001b[0;34m)\u001b[0m\u001b[0;34m\u001b[0m\u001b[0;34m\u001b[0m\u001b[0m\n\u001b[0;32m-> 1682\u001b[0;31m                     \u001b[0mself\u001b[0m\u001b[0;34m.\u001b[0m\u001b[0m_check_timeout\u001b[0m\u001b[0;34m(\u001b[0m\u001b[0mendtime\u001b[0m\u001b[0;34m,\u001b[0m \u001b[0morig_timeout\u001b[0m\u001b[0;34m)\u001b[0m\u001b[0;34m\u001b[0m\u001b[0;34m\u001b[0m\u001b[0m\n\u001b[0m\u001b[1;32m   1683\u001b[0m \u001b[0;34m\u001b[0m\u001b[0m\n",
      "\u001b[0;32m/opt/anaconda3/lib/python3.7/subprocess.py\u001b[0m in \u001b[0;36m_check_timeout\u001b[0;34m(self, endtime, orig_timeout)\u001b[0m\n\u001b[1;32m    981\u001b[0m         \u001b[0;32mif\u001b[0m \u001b[0m_time\u001b[0m\u001b[0;34m(\u001b[0m\u001b[0;34m)\u001b[0m \u001b[0;34m>\u001b[0m \u001b[0mendtime\u001b[0m\u001b[0;34m:\u001b[0m\u001b[0;34m\u001b[0m\u001b[0;34m\u001b[0m\u001b[0m\n\u001b[0;32m--> 982\u001b[0;31m             \u001b[0;32mraise\u001b[0m \u001b[0mTimeoutExpired\u001b[0m\u001b[0;34m(\u001b[0m\u001b[0mself\u001b[0m\u001b[0;34m.\u001b[0m\u001b[0margs\u001b[0m\u001b[0;34m,\u001b[0m \u001b[0morig_timeout\u001b[0m\u001b[0;34m)\u001b[0m\u001b[0;34m\u001b[0m\u001b[0;34m\u001b[0m\u001b[0m\n\u001b[0m\u001b[1;32m    983\u001b[0m \u001b[0;34m\u001b[0m\u001b[0m\n",
      "\u001b[0;31mTimeoutExpired\u001b[0m: Command '['/Users/sal/Desktop/DBMI/SymbolicMethods/ConceptMapping/public_mm/bin/wsdserverctl start']' timed out after 60 seconds",
      "\nDuring handling of the above exception, another exception occurred:\n",
      "\u001b[0;31mTimeoutExpired\u001b[0m                            Traceback (most recent call last)",
      "\u001b[0;32m<ipython-input-202-d84f062f0c57>\u001b[0m in \u001b[0;36m<module>\u001b[0;34m\u001b[0m\n\u001b[1;32m      5\u001b[0m \u001b[0mmm_path\u001b[0m \u001b[0;34m=\u001b[0m \u001b[0;34m\"/Users/sal/Desktop/DBMI/SymbolicMethods/ConceptMapping/public_mm\"\u001b[0m\u001b[0;34m\u001b[0m\u001b[0;34m\u001b[0m\u001b[0m\n\u001b[1;32m      6\u001b[0m \u001b[0msubprocess\u001b[0m\u001b[0;34m.\u001b[0m\u001b[0mrun\u001b[0m\u001b[0;34m(\u001b[0m\u001b[0;34m[\u001b[0m\u001b[0mmm_path\u001b[0m \u001b[0;34m+\u001b[0m \u001b[0;34m\"/bin/skrmedpostctl start\"\u001b[0m\u001b[0;34m]\u001b[0m\u001b[0;34m,\u001b[0m \u001b[0mshell\u001b[0m \u001b[0;34m=\u001b[0m \u001b[0;32mTrue\u001b[0m\u001b[0;34m,\u001b[0m \u001b[0mcapture_output\u001b[0m \u001b[0;34m=\u001b[0m \u001b[0;32mTrue\u001b[0m\u001b[0;34m)\u001b[0m\u001b[0;34m\u001b[0m\u001b[0;34m\u001b[0m\u001b[0m\n\u001b[0;32m----> 7\u001b[0;31m \u001b[0msubprocess\u001b[0m\u001b[0;34m.\u001b[0m\u001b[0mrun\u001b[0m\u001b[0;34m(\u001b[0m\u001b[0;34m[\u001b[0m\u001b[0mmm_path\u001b[0m \u001b[0;34m+\u001b[0m \u001b[0;34m\"/bin/wsdserverctl start\"\u001b[0m\u001b[0;34m]\u001b[0m\u001b[0;34m,\u001b[0m \u001b[0mshell\u001b[0m \u001b[0;34m=\u001b[0m \u001b[0;32mTrue\u001b[0m\u001b[0;34m,\u001b[0m \u001b[0mcapture_output\u001b[0m \u001b[0;34m=\u001b[0m \u001b[0;32mTrue\u001b[0m\u001b[0;34m,\u001b[0m \u001b[0mtimeout\u001b[0m \u001b[0;34m=\u001b[0m \u001b[0;36m60\u001b[0m\u001b[0;34m)\u001b[0m\u001b[0;34m\u001b[0m\u001b[0;34m\u001b[0m\u001b[0m\n\u001b[0m",
      "\u001b[0;32m/opt/anaconda3/lib/python3.7/subprocess.py\u001b[0m in \u001b[0;36mrun\u001b[0;34m(input, capture_output, timeout, check, *popenargs, **kwargs)\u001b[0m\n\u001b[1;32m    477\u001b[0m             \u001b[0mstdout\u001b[0m\u001b[0;34m,\u001b[0m \u001b[0mstderr\u001b[0m \u001b[0;34m=\u001b[0m \u001b[0mprocess\u001b[0m\u001b[0;34m.\u001b[0m\u001b[0mcommunicate\u001b[0m\u001b[0;34m(\u001b[0m\u001b[0;34m)\u001b[0m\u001b[0;34m\u001b[0m\u001b[0;34m\u001b[0m\u001b[0m\n\u001b[1;32m    478\u001b[0m             raise TimeoutExpired(process.args, timeout, output=stdout,\n\u001b[0;32m--> 479\u001b[0;31m                                  stderr=stderr)\n\u001b[0m\u001b[1;32m    480\u001b[0m         \u001b[0;32mexcept\u001b[0m\u001b[0;34m:\u001b[0m  \u001b[0;31m# Including KeyboardInterrupt, communicate handled that.\u001b[0m\u001b[0;34m\u001b[0m\u001b[0;34m\u001b[0m\u001b[0m\n\u001b[1;32m    481\u001b[0m             \u001b[0mprocess\u001b[0m\u001b[0;34m.\u001b[0m\u001b[0mkill\u001b[0m\u001b[0;34m(\u001b[0m\u001b[0;34m)\u001b[0m\u001b[0;34m\u001b[0m\u001b[0;34m\u001b[0m\u001b[0m\n",
      "\u001b[0;31mTimeoutExpired\u001b[0m: Command '['/Users/sal/Desktop/DBMI/SymbolicMethods/ConceptMapping/public_mm/bin/wsdserverctl start']' timed out after 60 seconds"
     ]
    }
   ],
   "source": [
    "#Starts the SKR/Medpost Part-of-Speech Tagger and Word Sense Disambiguation Servers\n",
    "#The WSD server takes about a minute to fully load, so the TimeoutExpired exception is just used to move onto the next\n",
    "import subprocess\n",
    "\n",
    "mm_path = \"/Users/sal/Desktop/DBMI/SymbolicMethods/ConceptMapping/public_mm\"\n",
    "subprocess.run([mm_path + \"/bin/skrmedpostctl start\"], shell = True, capture_output = True)\n",
    "subprocess.run([mm_path + \"/bin/wsdserverctl start\"], shell = True, capture_output = True, timeout = 60)"
   ]
  },
  {
   "cell_type": "code",
   "execution_count": 207,
   "metadata": {
    "scrolled": false
   },
   "outputs": [],
   "source": [
    "#Running MetaMap\n",
    "run_mm = mm_path + \"/bin/metamap18 -AIGy+ --negex -R ICD10CM,ICD10PCS,ICD9CM,ICD9CM,LNC,LNC,SNOMEDCT_US,SNOMEDCT_US,SNOMEDCT_US --conj -V USAbase\"\n",
    "\n",
    "#Retrieve MetaMap results for each trial\n",
    "for e,nct in zip(extraction, trials):\n",
    "    \n",
    "    #Pull out the terms for the trial\n",
    "    terms = []\n",
    "    for i in range(0, len(e)):\n",
    "        for text in e[i].values():\n",
    "            for t in text:\n",
    "                terms.append(t[0])\n",
    "    \n",
    "    with open('temp.txt', \"w\") as mm_input:\n",
    "        for t in terms:\n",
    "            mm_input.write(t)\n",
    "            mm_input.write(\"\\n\\n\")\n",
    "    \n",
    "    #Convert all non-ASCII characters using UMLS provided .jar file\n",
    "    subprocess.run(\"java -jar replace_utf8.jar temp.txt > input.txt\", shell = True, capture_output = True)\n",
    "    \n",
    "    #Submit to MetaMap\n",
    "    subprocess.run(run_mm + \" input.txt ./MM_Results/\" + nct + \"_MM.txt\", shell = True, capture_output = True)\n"
   ]
  },
  {
   "cell_type": "code",
   "execution_count": 208,
   "metadata": {
    "scrolled": false
   },
   "outputs": [
    {
     "data": {
      "text/plain": [
       "CompletedProcess(args=['/Users/sal/Desktop/DBMI/SymbolicMethods/ConceptMapping/public_mm/bin/wsdserverctl stop'], returncode=0, stdout=b'Stopping wsdserverctl: \\nStopping WSD Server process..\\nProcess 23567 stopped\\n', stderr=b'/Users/sal/Desktop/DBMI/SymbolicMethods/ConceptMapping/public_mm/bin/wsdserverctl: line 55: kill: (23567) - No such process\\n')"
      ]
     },
     "execution_count": 208,
     "metadata": {},
     "output_type": "execute_result"
    }
   ],
   "source": [
    "#Close the MetaMap Servers\n",
    "subprocess.run([mm_path + \"/bin/skrmedpostctl stop\"], shell = True, capture_output = True)\n",
    "subprocess.run([mm_path + \"/bin/wsdserverctl stop\"], shell = True, capture_output = True)"
   ]
  },
  {
   "cell_type": "markdown",
   "metadata": {},
   "source": [
    "## Send term with domain to Usagi and save concept, vocab, and score\n",
    "Export the output of each to (NCTID)\\_usagi.txt"
   ]
  },
  {
   "cell_type": "code",
   "execution_count": 196,
   "metadata": {
    "scrolled": true
   },
   "outputs": [],
   "source": [
    "import requests as r\n",
    "import json\n",
    "\n",
    "url = 'http://149.28.237.139:8002/concepthub/omop/searchOneEntityByTermAndDomain'\n",
    "for e,nct in zip(extraction, trials):\n",
    "    \n",
    "    #Send the terms and domains pairs for the trial to Usagi and save query and mapping\n",
    "    responses = []\n",
    "    for i in range(0, len(e)):\n",
    "        for text in e[i].values():\n",
    "            for t in text:\n",
    "                query = {'term':t[0], 'domain':t[1]}\n",
    "                reply = r.post(url, json = query)\n",
    "                responses.append([query,reply.text])\n",
    "    \n",
    "    #Store the Usagi mappings for the trial\n",
    "    with open('./Usagi_Results/'+ nct + '_usagi.txt', \"w\") as usagi_output:\n",
    "        for res in responses:\n",
    "            usagi_output.write(str(res[0])+\"\\n\")\n",
    "            #Catch HTTP Status 500 Error when term is not found\n",
    "            if (res[1][:15] == \"<!doctype html>\"):\n",
    "                usagi_output.write(\"N/A\")\n",
    "            else:\n",
    "                usagi_output.write(res[1])\n",
    "            usagi_output.write(\"\\n\\n\")"
   ]
  },
  {
   "cell_type": "markdown",
   "metadata": {},
   "source": [
    "## Extract MetaMap score, CUI, source vocab"
   ]
  },
  {
   "cell_type": "code",
   "execution_count": 215,
   "metadata": {},
   "outputs": [
    {
     "name": "stdout",
     "output_type": "stream",
     "text": [
      "['NCT00097734', 'Processing input.txt.tx.1: Contraindication\\n\\nPhrase: Contraindication\\n>>>>> Phrase\\ncontraindication\\n<<<<< Phrase\\n>>>>> Mappings\\nMeta Mapping (1000):\\n  1000   C0522473:Contraindication {SNOMEDCT_US,SNOMEDCT_US,SNOMEDCT_US} [Qualitative Concept]\\n<<<<< Mappings\\n', 'Processing input.txt.tx.1: other beta-lactam antibiotics\\n\\nPhrase: other beta-lactam antibiotics\\n>>>>> Phrase\\nother beta lactam antibiotics\\n<<<<< Phrase\\n>>>>> Mappings\\nMeta Mapping (923):\\n   923   C0026458:Monobactam (Monobactams {SNOMEDCT_US,SNOMEDCT_US,SNOMEDCT_US}) [Antibiotic,Organic Chemical]\\n<<<<< Mappings\\n', 'Processing input.txt.tx.1: advanced renal impairment\\n\\nPhrase: advanced renal impairment\\n>>>>> Phrase\\nadvanced renal impairment\\n<<<<< Phrase\\n>>>>> Mappings\\nMeta Mapping (901):\\n   901   C1565489:Impaired renal function (Renal Insufficiency {SNOMEDCT_US,SNOMEDCT_US,SNOMEDCT_US}) [Disease or Syndrome]\\n   901   C0205179:Advanced phase {SNOMEDCT_US,SNOMEDCT_US,SNOMEDCT_US} [Qualitative Concept]\\n<<<<< Mappings\\n', 'Processing input.txt.tx.1: hemodialysis\\n\\nPhrase: hemodialysis\\n>>>>> Phrase\\nhemodialysis\\n<<<<< Phrase\\n>>>>> Mappings\\nMeta Mapping (1000):\\n  1000   C0019004:Hemodialysis {ICD9CM,ICD9CM,LNC,LNC,SNOMEDCT_US,SNOMEDCT_US,SNOMEDCT_US} [Therapeutic or Preventive Procedure]\\n<<<<< Mappings\\n', 'Processing input.txt.tx.1: Antibiotic therapy\\n\\nPhrase: Antibiotic therapy\\n>>>>> Phrase\\nantibiotic therapy\\n<<<<< Phrase\\n>>>>> Mappings\\nMeta Mapping (1000):\\n  1000   C0338237:Antibiotic therapy {SNOMEDCT_US,SNOMEDCT_US,SNOMEDCT_US} [Therapeutic or Preventive Procedure]\\n<<<<< Mappings\\n', 'Processing input.txt.tx.1: in the two weeks\\n\\nPhrase: in the two weeks\\n>>>>> Phrase\\nin the two weeks\\n<<<<< Phrase\\n>>>>> Mappings\\nMeta Mapping (861):\\n   861   C4082118:Two weeks {SNOMEDCT_US,SNOMEDCT_US,SNOMEDCT_US} [Temporal Concept]\\n<<<<< Mappings\\n', 'Processing input.txt.tx.1: disease\\n\\nPhrase: disease\\n>>>>> Phrase\\ndisease\\n<<<<< Phrase\\n>>>>> Mappings\\nMeta Mapping (1000):\\n  1000   C0012634:Disease {LNC,LNC,SNOMEDCT_US,SNOMEDCT_US,SNOMEDCT_US} [Disease or Syndrome]\\n<<<<< Mappings\\n', 'Processing input.txt.tx.1: hematologic/oncologic disease\\n\\nPhrase: hematologic/oncologic disease\\n>>>>> Phrase\\nhematologic oncologic disease\\n<<<<< Phrase\\n>>>>> Mappings\\nMeta Mapping (913):\\n   913   C0018939:Blood diseases (Hematological Disease {ICD9CM,ICD9CM,LNC,LNC,SNOMEDCT_US,SNOMEDCT_US,SNOMEDCT_US}) [Disease or Syndrome]\\n   913   C1882062:Neoplastic disease {LNC,LNC,SNOMEDCT_US,SNOMEDCT_US,SNOMEDCT_US} [Neoplastic Process]\\n<<<<< Mappings\\n', 'Processing input.txt.tx.1: leukemia\\n\\nPhrase: leukemia\\n>>>>> Phrase\\nleukemia\\n<<<<< Phrase\\n>>>>> Mappings\\nMeta Mapping (1000):\\n  1000   C0023418:Leukemia (leukemia {ICD10CM,ICD9CM,ICD9CM,LNC,LNC,SNOMEDCT_US,SNOMEDCT_US,SNOMEDCT_US}) [Neoplastic Process]\\n<<<<< Mappings\\n', 'Processing input.txt.tx.1: lymphoma\\n\\nPhrase: lymphoma\\n>>>>> Phrase\\nlymphoma\\n<<<<< Phrase\\n>>>>> Mappings\\nMeta Mapping (1000):\\n  1000   C0024299:Lymphoma {ICD10CM,LNC,LNC,SNOMEDCT_US,SNOMEDCT_US,SNOMEDCT_US} [Neoplastic Process]\\n<<<<< Mappings\\n', 'Processing input.txt.tx.1: immunosuppressants\\n\\nPhrase: immunosuppressants\\n>>>>> Phrase\\nimmunosuppressants\\n<<<<< Phrase\\n>>>>> Mappings\\nMeta Mapping (1000):\\n  1000   C0021081:Immunosuppressive agent (Immunosuppressive Agents {LNC,LNC,SNOMEDCT_US,SNOMEDCT_US,SNOMEDCT_US}) [Immunologic Factor,Pharmacologic Substance]\\n<<<<< Mappings\\n', 'Processing input.txt.tx.1: Complications\\n\\nPhrase: Complications\\n>>>>> Phrase\\ncomplications\\n<<<<< Phrase\\n>>>>> Mappings\\nMeta Mapping (1000):\\n  1000   C0009566:Complication {LNC,LNC,SNOMEDCT_US,SNOMEDCT_US,SNOMEDCT_US} [Pathologic Function]\\n<<<<< Mappings\\n', 'Processing input.txt.tx.1: sigmoid diverticulitis\\n\\nPhrase: sigmoid diverticulitis\\n>>>>> Phrase\\nsigmoid diverticulitis\\n<<<<< Phrase\\n>>>>> Mappings\\nMeta Mapping (861):\\n   861   C0012813:Diverticulitis {SNOMEDCT_US,SNOMEDCT_US,SNOMEDCT_US} [Disease or Syndrome]\\n   861   C0227391:Sigmoid colon {LNC,LNC,SNOMEDCT_US,SNOMEDCT_US,SNOMEDCT_US} [Body Part, Organ, or Organ Component]\\n<<<<< Mappings\\n', 'Processing input.txt.tx.1: indication\\n\\nPhrase: indication\\n>>>>> Phrase\\nindication\\n<<<<< Phrase\\n>>>>> Mappings\\nMeta Mapping (1000):\\n  1000   C0392360:Indication of (contextual qualifier) {LNC,LNC,SNOMEDCT_US,SNOMEDCT_US,SNOMEDCT_US} [Idea or Concept]\\n<<<<< Mappings\\n', 'Processing input.txt.tx.1: surgery\\n\\nPhrase: surgery\\n>>>>> Phrase\\nsurgery\\n<<<<< Phrase\\n>>>>> Mappings\\nMeta Mapping (1000):\\n  1000   C1274039:General surgery (General surgery specialty {LNC,LNC,SNOMEDCT_US,SNOMEDCT_US,SNOMEDCT_US}) [Biomedical Occupation or Discipline]\\n<<<<< Mappings\\n', 'Processing input.txt.tx.1: hypersensitivity\\n\\nPhrase: hypersensitivity\\n>>>>> Phrase\\nhypersensitivity\\n<<<<< Phrase\\n>>>>> Mappings\\nMeta Mapping (1000):\\n  1000   C0020517:Hypersensitivity {ICD10CM,LNC,LNC,SNOMEDCT_US,SNOMEDCT_US,SNOMEDCT_US} [Pathologic Function]\\n<<<<< Mappings\\n', 'Processing input.txt.tx.1: beta-lactam antibiotics\\n\\nPhrase: beta-lactam antibiotics\\n>>>>> Phrase\\nbeta lactam antibiotics\\n<<<<< Phrase\\n>>>>> Mappings\\nMeta Mapping (1000):\\n  1000   C0026458:Monobactam (Monobactams {SNOMEDCT_US,SNOMEDCT_US,SNOMEDCT_US}) [Antibiotic,Organic Chemical]\\n<<<<< Mappings\\n', 'Processing input.txt.tx.1: Female\\n\\nPhrase: Female\\n>>>>> Phrase\\nfemale\\n<<<<< Phrase\\n>>>>> Mappings\\nMeta Mapping (1000):\\n  1000   C0043210:Woman {SNOMEDCT_US,SNOMEDCT_US,SNOMEDCT_US} [Population Group]\\n<<<<< Mappings\\n', 'Processing input.txt.tx.1: pregnant\\n\\nPhrase: pregnant\\n>>>>> Phrase\\npregnant\\n<<<<< Phrase\\n>>>>> Mappings\\nMeta Mapping (1000):\\n  1000   C0549206:Patient currently pregnant {LNC,LNC,SNOMEDCT_US,SNOMEDCT_US,SNOMEDCT_US} [Finding]\\n<<<<< Mappings\\n', 'Processing input.txt.tx.1: another study drug\\n\\nPhrase: another study drug\\n>>>>> Phrase\\nanother study drug\\n<<<<< Phrase\\n>>>>> Mappings\\nMeta Mapping (901):\\n   901   C0013175:Clinical drug trial (Drug Evaluation {SNOMEDCT_US,SNOMEDCT_US,SNOMEDCT_US}) [Research Activity]\\n<<<<< Mappings\\n', 'Processing input.txt.tx.1: another drug\\n\\nPhrase: another drug\\n>>>>> Phrase\\nanother drug\\n<<<<< Phrase\\n>>>>> Mappings\\nMeta Mapping (861):\\n   861   C0013227:Drugs (Pharmaceutical Preparations {LNC,LNC,SNOMEDCT_US,SNOMEDCT_US,SNOMEDCT_US}) [Pharmacologic Substance]\\n<<<<< Mappings\\n', 'Processing input.txt.tx.1: within the four weeks\\n\\nPhrase: within the four weeks\\n>>>>> Phrase\\nwithin the four weeks\\n<<<<< Phrase\\n>>>>> Mappings\\nMeta Mapping (812):\\n   812   C0439230:week {LNC,LNC,SNOMEDCT_US,SNOMEDCT_US,SNOMEDCT_US} [Temporal Concept]\\n   812   C0205450:Four {SNOMEDCT_US,SNOMEDCT_US,SNOMEDCT_US} [Quantitative Concept]\\n<<<<< Mappings\\n', 'Processing input.txt.tx.1: symptoms\\n\\nPhrase: symptoms\\n>>>>> Phrase\\nsymptoms\\n<<<<< Phrase\\n>>>>> Mappings\\nMeta Mapping (1000):\\n  1000   C1457887:Symptoms {ICD9CM,ICD9CM,LNC,LNC,SNOMEDCT_US,SNOMEDCT_US,SNOMEDCT_US} [Sign or Symptom]\\n<<<<< Mappings\\n', 'Processing input.txt.tx.1: sigmoid diverticulitis\\n\\nPhrase: sigmoid diverticulitis\\n>>>>> Phrase\\nsigmoid diverticulitis\\n<<<<< Phrase\\n>>>>> Mappings\\nMeta Mapping (861):\\n   861   C0012813:Diverticulitis {SNOMEDCT_US,SNOMEDCT_US,SNOMEDCT_US} [Disease or Syndrome]\\n   861   C0227391:Sigmoid colon {LNC,LNC,SNOMEDCT_US,SNOMEDCT_US,SNOMEDCT_US} [Body Part, Organ, or Organ Component]\\n<<<<< Mappings\\n', 'Processing input.txt.tx.1: * Fever ( body temperature\\n\\nPhrase: * Fever\\n>>>>> Phrase\\nfever\\n<<<<< Phrase\\n>>>>> Mappings\\nMeta Mapping (1000):\\n  1000   C0015967:Fever {ICD10CM,ICD9CM,ICD9CM,LNC,LNC,SNOMEDCT_US,SNOMEDCT_US,SNOMEDCT_US} [Sign or Symptom]\\n<<<<< Mappings\\n', '\\nPhrase: ( body temperature\\n>>>>> Phrase\\nbody temperature\\n<<<<< Phrase\\n>>>>> Mappings\\nMeta Mapping (1000):\\n  1000   C0005903:Body temperature (Body Temperature {LNC,LNC,SNOMEDCT_US,SNOMEDCT_US,SNOMEDCT_US}) [Organism Attribute]\\n<<<<< Mappings\\n', 'Processing input.txt.tx.1: Abdominal tenderness\\n\\nPhrase: Abdominal tenderness\\n>>>>> Phrase\\nabdominal tenderness\\n<<<<< Phrase\\n>>>>> Mappings\\nMeta Mapping (1000):\\n  1000   C0232498:Abdominal tenderness {ICD10CM,ICD9CM,ICD9CM,SNOMEDCT_US,SNOMEDCT_US,SNOMEDCT_US} [Sign or Symptom]\\n<<<<< Mappings\\n', 'Processing input.txt.tx.1: * Leukocytosis\\n\\nPhrase: * Leukocytosis\\n>>>>> Phrase\\nleukocytosis\\n<<<<< Phrase\\n>>>>> Mappings\\nMeta Mapping (1000):\\n  1000   C0023518:Leukocytosis {ICD10CM,ICD9CM,ICD9CM,SNOMEDCT_US,SNOMEDCT_US,SNOMEDCT_US} [Disease or Syndrome]\\n<<<<< Mappings\\n', 'Processing input.txt.tx.1: leukocytes\\n\\nPhrase: leukocytes\\n>>>>> Phrase\\nleukocytes\\n<<<<< Phrase\\n>>>>> Mappings\\nMeta Mapping (1000):\\n  1000   C0023516:Leukocytes {LNC,LNC,SNOMEDCT_US,SNOMEDCT_US,SNOMEDCT_US} [Cell]\\n<<<<< Mappings\\n', 'Processing input.txt.tx.1: differential blood count\\n\\nPhrase: differential blood count\\n>>>>> Phrase\\ndifferential blood count\\n<<<<< Phrase\\n>>>>> Mappings\\nMeta Mapping (827):\\n   827   C0229664:Peripheral blood, NOS (peripheral blood {SNOMEDCT_US,SNOMEDCT_US,SNOMEDCT_US}) [Body Substance]\\n   827   C0443199:Differential (Differential quality {LNC,LNC,SNOMEDCT_US,SNOMEDCT_US,SNOMEDCT_US}) [Qualitative Concept]\\n<<<<< Mappings\\n', 'Processing input.txt.tx.1: * Elevated CRP\\n\\nPhrase: * Elevated CRP\\n>>>>> Phrase\\nelevated crp\\n<<<<< Phrase\\n>>>>> Mappings\\nMeta Mapping (1000):\\n  1000   C0742906:Elevated C-reactive protein {SNOMEDCT_US,SNOMEDCT_US,SNOMEDCT_US} [Finding]\\n<<<<< Mappings\\n', 'Processing input.txt.tx.1: > 38  degrees C\\n\\nPhrase: > 38  degrees C\\n>>>>> Phrase\\n38 degrees c\\n<<<<< Phrase\\n>>>>> Mappings\\nMeta Mapping (901):\\n   901   C0439237:degrees Celsius {SNOMEDCT_US,SNOMEDCT_US,SNOMEDCT_US} [Quantitative Concept]\\n<<<<< Mappings\\n', 'Processing input.txt.tx.1: > 10,000 / ul\\n\\nPhrase: > 10,000 / ul\\n>>>>> Phrase\\n10 000 ul\\n<<<<< Phrase\\n>>>>> Mappings\\nMeta Mapping (827):\\n   827   C1300557:/mm3 {SNOMEDCT_US,SNOMEDCT_US,SNOMEDCT_US} [Quantitative Concept]\\n   827   C3842590:10% {LNC,LNC} [Quantitative Concept]\\n<<<<< Mappings\\n', 'Processing input.txt.tx.1: > 1 %\\n\\nPhrase: > 1 %\\n>>>>> Phrase\\n1\\n<<<<< Phrase\\n>>>>> Mappings\\nMeta Mapping (1000):\\n  1000   C3816745:1+ {LNC,LNC} [Finding]\\n<<<<< Mappings\\n', 'Processing input.txt.tx.1: > 20 mg/l\\n\\nPhrase: > 20 mg/l\\n>>>>> Phrase\\n20 mg l\\n<<<<< Phrase\\n>>>>> Mappings\\nMeta Mapping (901):\\n   901   C0439268:gram/cubic meter (Microgram per Milliliter {SNOMEDCT_US,SNOMEDCT_US,SNOMEDCT_US}) [Quantitative Concept]\\n   901   C3842589:20% {LNC,LNC} [Quantitative Concept]\\n<<<<< Mappings\\n', 'Processing input.txt.tx.1: sigmoid diverticulitis\\n\\nPhrase: sigmoid diverticulitis\\n>>>>> Phrase\\nsigmoid diverticulitis\\n<<<<< Phrase\\n>>>>> Mappings\\nMeta Mapping (861):\\n   861   C0012813:Diverticulitis {SNOMEDCT_US,SNOMEDCT_US,SNOMEDCT_US} [Disease or Syndrome]\\n   861   C0227391:Sigmoid colon {LNC,LNC,SNOMEDCT_US,SNOMEDCT_US,SNOMEDCT_US} [Body Part, Organ, or Organ Component]\\n<<<<< Mappings\\n', 'Processing input.txt.tx.1: contrast enema\\n\\nPhrase: contrast enema\\n>>>>> Phrase\\ncontrast enema\\n<<<<< Phrase\\n>>>>> Mappings\\nMeta Mapping (1000):\\n  1000   C1282538:Contrast enema {SNOMEDCT_US,SNOMEDCT_US,SNOMEDCT_US} [Diagnostic Procedure]\\n<<<<< Mappings\\n', 'Processing input.txt.tx.1: Central African Republic\\n\\nPhrase: Central African Republic\\n>>>>> Phrase\\ncentral african republic\\n<<<<< Phrase\\n>>>>> Mappings\\nMeta Mapping (1000):\\n  1000   C0007673:Central African Republic {SNOMEDCT_US,SNOMEDCT_US,SNOMEDCT_US} [Geographic Area]\\n<<<<< Mappings\\n']\n"
     ]
    }
   ],
   "source": [
    "#List of dataframes for each trial\n",
    "mm_results = []\n",
    "cols = [\"ID\", \"Input\", \"Phrase\", \"Score\", \"String\", \"Preferred Name\", \"Vocab\", \"Semantic Type\"]\n",
    "\n",
    "for nct in trials:\n",
    "    data = [nct]\n",
    "    \n",
    "    #Opens each results txt file and extracts each relevant information for dataframe\n",
    "    with open('./MM_Results/' + nct + '_MM.txt', \"r\") as mm_file:\n",
    "        for line in mm_file:\n",
    "            #Input\n",
    "            if line.startswith(\"Processing input\"):\n",
    "            \n",
    "            #Phrase\n",
    "            if line.startswith():\n",
    "            \n",
    "            #MetaMap Score\n",
    "            if line.startswith():\n",
    "            \n",
    "            #UMLS Identified String\n",
    "            if line.startswith():\n",
    "            \n",
    "            #Preferred Name\n",
    "            if line.startswith():\n",
    "            \n",
    "            #Source Vocabularies\n",
    "            if line.startswith():\n",
    "            \n",
    "            #Semantic Type\n",
    "            if line.startswith(\"<<<<< Mappings\"):\n",
    "                data.append(\"\".join(buffer))\n",
    "                buffer = []\n",
    "                \n",
    "    trial = pd.DataFrame(tuple(data), columns = cols)\n",
    "    mm_results.append(trial)\n",
    "\n",
    "print(mm_results[0])"
   ]
  },
  {
   "cell_type": "markdown",
   "metadata": {},
   "source": [
    "## Convert MetaMap CUI to AUI using UMLS REST API"
   ]
  },
  {
   "cell_type": "markdown",
   "metadata": {},
   "source": [
    "## Check equality of MetaMap concept and C2Q concept\n",
    "Use a conversion table for the domains"
   ]
  },
  {
   "cell_type": "markdown",
   "metadata": {},
   "source": [
    "## Store information from extracted entities in a dataframe per trial"
   ]
  },
  {
   "cell_type": "markdown",
   "metadata": {},
   "source": [
    "## Parse dataframe to extract best concept\n",
    "* If MM concept exists, provide that term\n",
    "* Else if, provide Usagi\n",
    "* Else, provide 'N/A'"
   ]
  },
  {
   "cell_type": "markdown",
   "metadata": {},
   "source": [
    "## Export dataframe with best concept marking added\n",
    "Format: (NCTID)\\_mastersheet.xlsx"
   ]
  },
  {
   "cell_type": "markdown",
   "metadata": {},
   "source": [
    "## Create csv/Excel file from master sheet\n",
    "Format: (NCTID)\\_eval.xlsx"
   ]
  }
 ],
 "metadata": {
  "kernelspec": {
   "display_name": "Python 3",
   "language": "python",
   "name": "python3"
  },
  "language_info": {
   "codemirror_mode": {
    "name": "ipython",
    "version": 3
   },
   "file_extension": ".py",
   "mimetype": "text/x-python",
   "name": "python",
   "nbconvert_exporter": "python",
   "pygments_lexer": "ipython3",
   "version": "3.7.4"
  }
 },
 "nbformat": 4,
 "nbformat_minor": 2
}

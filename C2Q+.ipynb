{
 "cells": [
  {
   "cell_type": "code",
   "execution_count": null,
   "metadata": {},
   "outputs": [],
   "source": [
    "from selenium import webdriver\n",
    "from selenium.webdriver.common.action_chains import ActionChains\n",
    "from selenium.webdriver.common.by import By\n",
    "from selenium.webdriver.support.ui import WebDriverWait\n",
    "from selenium.webdriver.support import expected_conditions as EC\n",
    "import pandas as pd\n",
    "\n",
    "#Connect to C2Q\n",
    "driver = webdriver.Chrome(\"/Users/sal/Downloads/chromedriver\")\n",
    "driver.get(\"http://www.ohdsi.org/web/criteria2query/\")\n",
    "\n",
    "#Load clinical trial\n",
    "nctid = driver.find_element_by_id('nctid')\n",
    "fetchct = driver.find_element_by_id('fetchct')\n",
    "nctid.send_keys(\"NCT03880240\")\n",
    "ActionChains(driver).click(fetchct).perform()\n",
    "\n",
    "#JSON Query\n",
    "#auto = driver.find_element_by_id('auto')\n",
    "#ActionChains(driver).click(auto).perform()\n",
    "\n",
    "#Parse the criteria\n",
    "parse = driver.find_element_by_id('start')\n",
    "ActionChains(driver).click(parse).perform()\n",
    "\n",
    "#Extract JSON text\n",
    "wait = WebDriverWait(driver, 20)\n",
    "wait.until(EC.presence_of_element_located((By.ID, 'downloadfile')))\n",
    "download = driver.find_element_by_id('downloadfile')\n",
    "ActionChains(driver).click(download).perform()"
   ]
  },
  {
   "cell_type": "code",
   "execution_count": null,
   "metadata": {},
   "outputs": [],
   "source": [
    "import json\n",
    "import pandas as pd\n",
    "\n",
    "with open(\"criteria2query.json\", \"r\") as read_file:\n",
    "    data = json.load(read_file)\n",
    "\n",
    "trial = pd.DataFrame.from_dict(data)    \n",
    "print (data)"
   ]
  },
  {
   "cell_type": "markdown",
   "metadata": {},
   "source": [
    "trial[0,0] is the exclusion criteria\n",
    "trial[1,0] is the inclusion criteria"
   ]
  },
  {
   "cell_type": "code",
   "execution_count": null,
   "metadata": {},
   "outputs": [],
   "source": [
    "exclusion = trial.iat[0,0]\n",
    "inclusion = trial.iat[1,0]\n",
    "print (exclusion[0].get('sents')[0].get('terms')[0])"
   ]
  },
  {
   "cell_type": "code",
   "execution_count": 101,
   "metadata": {},
   "outputs": [],
   "source": [
    "m = []\n",
    "for e in exclusion:\n",
    "    phrase = e.get('sents')[0].get('text')\n",
    "    q = []\n",
    "    for t in e.get('sents')[0].get('terms'):\n",
    "        entity = t.get('text')\n",
    "        domain = t.get('categorey')\n",
    "        q.append([entity, domain])\n",
    "    m.append({phrase:q})\n",
    "\n",
    "for i in inclusion:\n",
    "    phrase = i.get('sents')[0].get('text')\n",
    "    q = []\n",
    "    for t in i.get('sents')[0].get('terms'):\n",
    "        entity = t.get('text')\n",
    "        domain = t.get('categorey')\n",
    "        q.append([entity, domain])\n",
    "    m.append({phrase:q})"
   ]
  },
  {
   "cell_type": "code",
   "execution_count": null,
   "metadata": {
    "collapsed": true
   },
   "outputs": [],
   "source": [
    "m"
   ]
  }
 ],
 "metadata": {
  "kernelspec": {
   "display_name": "Python 3",
   "language": "python",
   "name": "python3"
  },
  "language_info": {
   "codemirror_mode": {
    "name": "ipython",
    "version": 3
   },
   "file_extension": ".py",
   "mimetype": "text/x-python",
   "name": "python",
   "nbconvert_exporter": "python",
   "pygments_lexer": "ipython3",
   "version": "3.6.3"
  }
 },
 "nbformat": 4,
 "nbformat_minor": 2
}

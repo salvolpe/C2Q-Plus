{
 "cells": [
  {
   "cell_type": "code",
   "execution_count": null,
   "metadata": {},
   "outputs": [],
   "source": [
    "from selenium import webdriver\n",
    "from selenium.webdriver.common.action_chains import ActionChains\n",
    "from selenium.webdriver.common.by import By\n",
    "from selenium.webdriver.support.ui import WebDriverWait\n",
    "from selenium.webdriver.support import expected_conditions as EC\n",
    "import pandas as pd\n",
    "\n",
    "#Connect to C2Q\n",
    "driver = webdriver.Chrome(\"/Users/sal/Downloads/chromedriver\")\n",
    "driver.get(\"http://www.ohdsi.org/web/criteria2query/\")\n",
    "\n",
    "#Load clinical trial\n",
    "nctid = driver.find_element_by_id('nctid')\n",
    "fetchct = driver.find_element_by_id('fetchct')\n",
    "nctid.send_keys(\"NCT03880240\")\n",
    "ActionChains(driver).click(fetchct).perform()\n",
    "\n",
    "#JSON Query\n",
    "#auto = driver.find_element_by_id('auto')\n",
    "#ActionChains(driver).click(auto).perform()\n",
    "\n",
    "#Parse the criteria\n",
    "parse = driver.find_element_by_id('start')\n",
    "ActionChains(driver).click(parse).perform()\n",
    "\n",
    "#Extract JSON text\n",
    "wait = WebDriverWait(driver, 20)\n",
    "wait.until(EC.presence_of_element_located((By.ID, 'downloadfile')))\n",
    "download = driver.find_element_by_id('downloadfile')\n",
    "ActionChains(driver).click(download).perform()"
   ]
  },
  {
   "cell_type": "code",
   "execution_count": 117,
   "metadata": {},
   "outputs": [
    {
     "name": "stdout",
     "output_type": "stream",
     "text": [
      "{'eligibility criteria': {'exclusion_criteria': [{'include': False, 'pattern': 0, 'pid': 0, 'sents': [{'display': ' Current history of <mark data-entity=\"qualifier\">poorly</mark><mark data-entity=\"condition\">controlled migraines</mark>including <mark data-entity=\"drug\">chronic medication</mark>for <mark data-entity=\"condition\">migraine</mark>prevention ', 'ignore': False, 'include': False, 'logic_groups': [], 'relations': [], 'terms': [{'categorey': 'Condition', 'end_index': 47, 'neg': False, 'start_index': 27, 'termId': 1, 'text': 'controlled migraines'}, {'categorey': 'Drug', 'end_index': 76, 'neg': False, 'start_index': 58, 'termId': 2, 'text': 'chronic medication'}, {'categorey': 'Condition', 'end_index': 89, 'neg': False, 'start_index': 81, 'termId': 3, 'text': 'migraine'}], 'text': ' Current history of poorly controlled migraines including chronic medication for migraine prevention '}]}, {'include': False, 'pattern': 0, 'pid': 0, 'sents': [{'display': ' <mark data-entity=\"temporal\">Current</mark>or past history of any <mark data-entity=\"condition\">neurological disorder</mark><mark data-entity=\"negation_cue\">other than</mark><mark data-entity=\"condition\">dementia</mark>, such as <mark data-entity=\"condition\">epilepsy</mark>, <mark data-entity=\"condition\">stroke</mark>( <mark data-entity=\"condition\">cortical stroke</mark>) , <mark data-entity=\"condition\">progressive neurologic disease</mark>( e.g. <mark data-entity=\"condition\">multiple sclerosis</mark>) or <mark data-entity=\"condition\">intracranial brain lesions</mark>; and history of <mark data-entity=\"temporal\">previous</mark><mark data-entity=\"procedure\">neurosurgery</mark>or <mark data-entity=\"condition\">head trauma</mark>that resulted in <mark data-entity=\"condition\">residual neurologic impairment</mark>. ', 'ignore': False, 'include': False, 'logic_groups': [[], [5, 4, 7, 9], [12, 11]], 'relations': [{'first': 1, 'second': 0, 'third': 'has_temporal'}, {'first': 3, 'second': 0, 'third': 'has_temporal'}, {'first': 4, 'second': 0, 'third': 'has_temporal'}, {'first': 5, 'second': 0, 'third': 'has_temporal'}, {'first': 6, 'second': 10, 'third': 'has_temporal'}, {'first': 7, 'second': 10, 'third': 'has_temporal'}, {'first': 8, 'second': 10, 'third': 'has_temporal'}, {'first': 9, 'second': 10, 'third': 'has_temporal'}, {'first': 11, 'second': 10, 'third': 'has_temporal'}, {'first': 12, 'second': 10, 'third': 'has_temporal'}, {'first': 13, 'second': 10, 'third': 'has_temporal'}], 'terms': [{'categorey': 'Condition', 'end_index': 53, 'neg': False, 'start_index': 32, 'termId': 1, 'text': 'neurological disorder'}, {'categorey': 'Condition', 'end_index': 73, 'neg': True, 'start_index': 65, 'termId': 3, 'text': 'dementia'}, {'categorey': 'Condition', 'end_index': 92, 'neg': True, 'start_index': 84, 'termId': 4, 'text': 'epilepsy'}, {'categorey': 'Condition', 'end_index': 101, 'neg': True, 'start_index': 95, 'termId': 5, 'text': 'stroke'}, {'categorey': 'Condition', 'end_index': 119, 'neg': True, 'start_index': 104, 'termId': 6, 'text': 'cortical stroke'}, {'categorey': 'Condition', 'end_index': 154, 'neg': True, 'start_index': 124, 'termId': 7, 'text': 'progressive neurologic disease'}, {'categorey': 'Condition', 'end_index': 180, 'neg': True, 'start_index': 162, 'termId': 8, 'text': 'multiple sclerosis'}, {'categorey': 'Condition', 'end_index': 212, 'neg': True, 'start_index': 186, 'termId': 9, 'text': 'intracranial brain lesions'}, {'categorey': 'Procedure', 'end_index': 251, 'neg': True, 'start_index': 239, 'termId': 11, 'text': 'neurosurgery'}, {'categorey': 'Condition', 'end_index': 266, 'neg': True, 'start_index': 255, 'termId': 12, 'text': 'head trauma'}, {'categorey': 'Condition', 'end_index': 314, 'neg': True, 'start_index': 284, 'termId': 13, 'text': 'residual neurologic impairment'}, {'categorey': 'Temporal', 'end_index': 8, 'neg': False, 'start_index': 1, 'termId': 0, 'text': 'Current'}, {'categorey': 'Temporal', 'end_index': 238, 'neg': False, 'start_index': 230, 'termId': 10, 'text': 'previous'}], 'text': ' Current or past history of any neurological disorder other than dementia , such as epilepsy , stroke ( cortical stroke ) , progressive neurologic disease ( e.g. multiple sclerosis ) or intracranial brain lesions ; and history of previous neurosurgery or head trauma that resulted in residual neurologic impairment . '}]}, {'include': False, 'pattern': 0, 'pid': 0, 'sents': [{'display': ' <mark data-entity=\"condition\">Non-cortical disease</mark>such as confluence <mark data-entity=\"measurement\">white matter changes</mark>( including <mark data-entity=\"measurement\">lacunar infarcts</mark><mark data-entity=\"value\">< 1cm</mark>) and <mark data-entity=\"condition\">asymptomatic</mark>, subacute , <mark data-entity=\"condition\">cerebellar infarcts</mark>may be included upon review of a medically responsible neurologist . ', 'ignore': False, 'include': False, 'logic_groups': [], 'relations': [{'first': 0, 'second': 3, 'third': 'has_value'}, {'first': 1, 'second': 3, 'third': 'has_value'}, {'first': 2, 'second': 3, 'third': 'has_value'}, {'first': 4, 'second': 3, 'third': 'has_value'}, {'first': 5, 'second': 3, 'third': 'has_value'}], 'terms': [{'categorey': 'Condition', 'end_index': 21, 'neg': False, 'start_index': 1, 'termId': 0, 'text': 'Non-cortical disease'}, {'categorey': 'Measurement', 'end_index': 61, 'neg': False, 'start_index': 41, 'termId': 1, 'text': 'white matter changes'}, {'categorey': 'Measurement', 'end_index': 90, 'neg': False, 'start_index': 74, 'termId': 2, 'text': 'lacunar infarcts'}, {'categorey': 'Condition', 'end_index': 115, 'neg': False, 'start_index': 103, 'termId': 4, 'text': 'asymptomatic'}, {'categorey': 'Condition', 'end_index': 148, 'neg': False, 'start_index': 129, 'termId': 5, 'text': 'cerebellar infarcts'}, {'categorey': 'Value', 'end_index': 96, 'neg': False, 'start_index': 91, 'termId': 3, 'text': '< 1cm'}], 'text': ' Non-cortical disease such as confluence white matter changes ( including lacunar infarcts < 1cm ) and asymptomatic , subacute , cerebellar infarcts may be included upon review of a medically responsible neurologist . '}]}, {'include': False, 'pattern': 0, 'pid': 0, 'sents': [{'display': ' Past or <mark data-entity=\"temporal\">current</mark><mark data-entity=\"observation\">history</mark>of <mark data-entity=\"condition\">major depression</mark>, <mark data-entity=\"condition\">bipolar</mark>disorderor <mark data-entity=\"condition\">psychotic disorders</mark>, or any <mark data-entity=\"qualifier\">other</mark><mark data-entity=\"condition\">major psychiatric condition</mark>. ', 'ignore': False, 'include': False, 'logic_groups': [[], [4, 2, 5, 7]], 'relations': [{'first': 1, 'second': 0, 'third': 'has_temporal'}, {'first': 2, 'second': 0, 'third': 'has_temporal'}, {'first': 3, 'second': 0, 'third': 'has_temporal'}, {'first': 4, 'second': 0, 'third': 'has_temporal'}, {'first': 5, 'second': 0, 'third': 'has_temporal'}, {'first': 7, 'second': 0, 'third': 'has_temporal'}], 'terms': [{'categorey': 'Observation', 'end_index': 24, 'neg': False, 'start_index': 17, 'termId': 1, 'text': 'history'}, {'categorey': 'Condition', 'end_index': 44, 'neg': False, 'start_index': 28, 'termId': 2, 'text': 'major depression'}, {'categorey': 'Condition', 'end_index': 54, 'neg': False, 'start_index': 47, 'termId': 3, 'text': 'bipolar'}, {'categorey': 'Condition', 'end_index': 63, 'neg': False, 'start_index': 47, 'termId': 4, 'text': 'bipolar disorder'}, {'categorey': 'Condition', 'end_index': 86, 'neg': False, 'start_index': 67, 'termId': 5, 'text': 'psychotic disorders'}, {'categorey': 'Condition', 'end_index': 129, 'neg': False, 'start_index': 102, 'termId': 7, 'text': 'major psychiatric condition'}, {'categorey': 'Temporal', 'end_index': 16, 'neg': False, 'start_index': 9, 'termId': 0, 'text': 'current'}], 'text': ' Past or current history of major depression , bipolar disorder or psychotic disorders , or any other major psychiatric condition . '}]}, {'include': False, 'pattern': 0, 'pid': 0, 'sents': [{'display': ' <mark data-entity=\"condition\">Contraindication</mark>for undergoing <mark data-entity=\"procedure\">MRI</mark>or receiving <mark data-entity=\"procedure\">TMS</mark>or tACS , ', 'ignore': False, 'include': False, 'logic_groups': [[], [2]], 'relations': [], 'terms': [{'categorey': 'Condition', 'end_index': 17, 'neg': False, 'start_index': 1, 'termId': 0, 'text': 'Contraindication'}, {'categorey': 'Procedure', 'end_index': 36, 'neg': False, 'start_index': 33, 'termId': 1, 'text': 'Magnetic Resonance Imaging'}, {'categorey': 'Procedure', 'end_index': 53, 'neg': False, 'start_index': 50, 'termId': 2, 'text': 'Transcranial magnetic stimulation'}], 'text': ' Contraindication for undergoing MRI or receiving TMS or tACS , '}]}, {'include': False, 'pattern': 0, 'pid': 0, 'sents': [{'display': ' <mark data-entity=\"value\">> 50 mSv</mark>of <mark data-entity=\"procedure\">radiation</mark><mark data-entity=\"condition\">exposure</mark>for research <mark data-entity=\"temporal\">within the past year</mark>( <mark data-entity=\"procedure\">PET imaging exclusion</mark>) ', 'ignore': False, 'include': False, 'logic_groups': [], 'relations': [{'first': 1, 'second': 0, 'third': 'has_value'}, {'first': 2, 'second': 0, 'third': 'has_value'}, {'first': 4, 'second': 0, 'third': 'has_value'}, {'first': 1, 'second': 3, 'third': 'has_temporal'}, {'first': 2, 'second': 3, 'third': 'has_temporal'}, {'first': 4, 'second': 3, 'third': 'has_temporal'}], 'terms': [{'categorey': 'Procedure', 'end_index': 22, 'neg': False, 'start_index': 13, 'termId': 1, 'text': 'radiation'}, {'categorey': 'Condition', 'end_index': 31, 'neg': False, 'start_index': 23, 'termId': 2, 'text': 'exposure'}, {'categorey': 'Procedure', 'end_index': 89, 'neg': False, 'start_index': 68, 'termId': 4, 'text': 'PET imaging exclusion'}, {'categorey': 'Value', 'end_index': 9, 'neg': False, 'start_index': 1, 'termId': 0, 'text': '> 50 mSv'}, {'categorey': 'Temporal', 'end_index': 65, 'neg': False, 'start_index': 45, 'termId': 3, 'text': 'within the past year'}], 'text': ' > 50 mSv of radiation exposure for research within the past year ( PET imaging exclusion ) '}]}, {'include': False, 'pattern': 0, 'pid': 0, 'sents': [{'display': ' History of <mark data-entity=\"condition\">fainting</mark>spells of <mark data-entity=\"observation\">unknown</mark>or undetermined etiology that might constitute <mark data-entity=\"condition\">seizures</mark>. ', 'ignore': False, 'include': False, 'logic_groups': [[1]], 'relations': [], 'terms': [{'categorey': 'Condition', 'end_index': 20, 'neg': False, 'start_index': 12, 'termId': 0, 'text': 'fainting'}, {'categorey': 'Observation', 'end_index': 38, 'neg': False, 'start_index': 31, 'termId': 1, 'text': 'unknown'}, {'categorey': 'Condition', 'end_index': 94, 'neg': False, 'start_index': 86, 'termId': 2, 'text': 'seizures'}], 'text': ' History of fainting spells of unknown or undetermined etiology that might constitute seizures . '}]}, {'include': False, 'pattern': 0, 'pid': 0, 'sents': [{'display': ' History of <mark data-entity=\"condition\">seizures</mark>, diagnosis of <mark data-entity=\"condition\">epilepsy</mark>, history of abnormal ( epileptiform ) <mark data-entity=\"procedure\">EEG</mark>or immediate ( 1st degree relative ) family history of <mark data-entity=\"condition\">epilepsy</mark>; with the <mark data-entity=\"negation_cue\">exception</mark>of a <mark data-entity=\"condition\">single seizure of benign etiology</mark>( e.g. <mark data-entity=\"condition\">febrile seizure</mark>) in the judgment of the investigator . ', 'ignore': False, 'include': False, 'logic_groups': [[2]], 'relations': [], 'terms': [{'categorey': 'Condition', 'end_index': 20, 'neg': False, 'start_index': 12, 'termId': 0, 'text': 'seizures'}, {'categorey': 'Condition', 'end_index': 44, 'neg': False, 'start_index': 36, 'termId': 1, 'text': 'epilepsy'}, {'categorey': 'Procedure', 'end_index': 87, 'neg': False, 'start_index': 84, 'termId': 2, 'text': 'Electroencephalography'}, {'categorey': 'Condition', 'end_index': 211, 'neg': True, 'start_index': 178, 'termId': 5, 'text': 'single seizure of benign etiology'}, {'categorey': 'Condition', 'end_index': 234, 'neg': True, 'start_index': 219, 'termId': 6, 'text': 'febrile seizure'}], 'text': ' History of seizures , diagnosis of epilepsy , history of abnormal ( epileptiform ) EEG or immediate ( 1st degree relative ) family history of epilepsy ; with the exception of a single seizure of benign etiology ( e.g. febrile seizure ) in the judgment of the investigator . '}]}, {'include': False, 'pattern': 0, 'pid': 0, 'sents': [{'display': ' Chronic ( particularly ) <mark data-entity=\"condition\">uncontrolled medical conditions</mark>that may cause a medical emergency in case of a provoked <mark data-entity=\"condition\">seizure</mark>( <mark data-entity=\"condition\">cardiac</mark>malformation , <mark data-entity=\"condition\">cardiac</mark>dysrhythmia , <mark data-entity=\"condition\">asthma</mark>, etc. ) . ', 'ignore': False, 'include': False, 'logic_groups': [], 'relations': [], 'terms': [{'categorey': 'Condition', 'end_index': 57, 'neg': False, 'start_index': 26, 'termId': 0, 'text': 'uncontrolled medical conditions'}, {'categorey': 'Condition', 'end_index': 122, 'neg': False, 'start_index': 115, 'termId': 1, 'text': 'seizure'}, {'categorey': 'Condition', 'end_index': 132, 'neg': False, 'start_index': 125, 'termId': 2, 'text': 'cardiac'}, {'categorey': 'Condition', 'end_index': 176, 'neg': False, 'start_index': 170, 'termId': 4, 'text': 'asthma'}], 'text': ' Chronic ( particularly ) uncontrolled medical conditions that may cause a medical emergency in case of a provoked seizure ( cardiac malformation , cardiac dysrhythmia , asthma , etc. ) . '}]}, {'include': False, 'pattern': 0, 'pid': 0, 'sents': [{'display': ' <mark data-entity=\"procedure\">Metal implants</mark>( excluding dental fillings ) or <mark data-entity=\"procedure\">devices</mark>such as <mark data-entity=\"procedure\">pacemaker</mark>, <mark data-entity=\"drug\">medication pump</mark>, nerve stimulator , TENS unit , ventriculo-peritoneal shunt , <mark data-entity=\"procedure\">cochlear implant</mark>, unless cleared by the study MD. . ', 'ignore': False, 'include': False, 'logic_groups': [[1, 0]], 'relations': [], 'terms': [{'categorey': 'Procedure', 'end_index': 15, 'neg': False, 'start_index': 1, 'termId': 0, 'text': 'Metal implants'}, {'categorey': 'Procedure', 'end_index': 56, 'neg': True, 'start_index': 49, 'termId': 1, 'text': 'devices'}, {'categorey': 'Procedure', 'end_index': 74, 'neg': True, 'start_index': 65, 'termId': 2, 'text': 'pacemaker'}, {'categorey': 'Drug', 'end_index': 92, 'neg': True, 'start_index': 77, 'termId': 3, 'text': 'medication pump'}, {'categorey': 'Procedure', 'end_index': 172, 'neg': True, 'start_index': 156, 'termId': 4, 'text': 'cochlear implant'}], 'text': ' Metal implants ( excluding dental fillings ) or devices such as pacemaker , medication pump , nerve stimulator , TENS unit , ventriculo-peritoneal shunt , cochlear implant , unless cleared by the study MD. . '}]}, {'include': False, 'pattern': 0, 'pid': 0, 'sents': [{'display': ' <mark data-entity=\"condition\">Substance abuse</mark>or dependence <mark data-entity=\"temporal\">within the past six months</mark>. ', 'ignore': False, 'include': False, 'logic_groups': [[0]], 'relations': [{'first': 0, 'second': 1, 'third': 'has_temporal'}], 'terms': [{'categorey': 'Condition', 'end_index': 16, 'neg': False, 'start_index': 1, 'termId': 0, 'text': 'Substance abuse'}, {'categorey': 'Temporal', 'end_index': 57, 'neg': False, 'start_index': 31, 'termId': 1, 'text': 'within the past six months'}], 'text': ' Substance abuse or dependence within the past six months . '}]}, {'include': False, 'pattern': 0, 'pid': 0, 'sents': [{'display': ' <mark data-entity=\"procedure\">Medications</mark>will be reviewed by the responsible MD and a decision about inclusion will be made based on the following : The patient \\'s past medical history , <mark data-entity=\"condition\">drug dose</mark>, history of <mark data-entity=\"temporal\">recent</mark><mark data-entity=\"condition\">medication changes</mark>or duration of <mark data-entity=\"procedure\">treatment</mark>, and combination of <mark data-entity=\"drug\">CNS active drugs</mark>. ', 'ignore': False, 'include': False, 'logic_groups': [[3]], 'relations': [{'first': 0, 'second': 2, 'third': 'has_temporal'}, {'first': 1, 'second': 2, 'third': 'has_temporal'}, {'first': 3, 'second': 2, 'third': 'has_temporal'}, {'first': 4, 'second': 2, 'third': 'has_temporal'}, {'first': 5, 'second': 2, 'third': 'has_temporal'}], 'terms': [{'categorey': 'Procedure', 'end_index': 12, 'neg': False, 'start_index': 1, 'termId': 0, 'text': 'Medications'}, {'categorey': 'Condition', 'end_index': 168, 'neg': False, 'start_index': 159, 'termId': 1, 'text': 'drug dose'}, {'categorey': 'Condition', 'end_index': 207, 'neg': False, 'start_index': 189, 'termId': 3, 'text': 'medication changes'}, {'categorey': 'Procedure', 'end_index': 232, 'neg': False, 'start_index': 223, 'termId': 4, 'text': 'treatment'}, {'categorey': 'Drug', 'end_index': 270, 'neg': False, 'start_index': 254, 'termId': 5, 'text': 'CNS active drugs'}, {'categorey': 'Temporal', 'end_index': 188, 'neg': False, 'start_index': 182, 'termId': 2, 'text': 'recent'}], 'text': \" Medications will be reviewed by the responsible MD and a decision about inclusion will be made based on the following : The patient 's past medical history , drug dose , history of recent medication changes or duration of treatment , and combination of CNS active drugs . \"}]}, {'include': False, 'pattern': 0, 'pid': 0, 'sents': [{'display': ' All <mark data-entity=\"demographic\">female</mark>participants that are pre-menopausal will be required to have a <mark data-entity=\"observation\">pregnancy</mark>test ; any participant who is <mark data-entity=\"condition\">pregnant</mark>or <mark data-entity=\"condition\">breastfeeding</mark>will not be enrolled in the study . ', 'ignore': False, 'include': False, 'logic_groups': [[3, 2]], 'relations': [], 'terms': [{'categorey': 'Demographic', 'end_index': 11, 'neg': False, 'start_index': 5, 'termId': 0, 'text': 'female'}, {'categorey': 'Observation', 'end_index': 85, 'neg': False, 'start_index': 76, 'termId': 1, 'text': 'pregnancy'}, {'categorey': 'Condition', 'end_index': 124, 'neg': False, 'start_index': 116, 'termId': 2, 'text': 'pregnant'}, {'categorey': 'Condition', 'end_index': 141, 'neg': False, 'start_index': 128, 'termId': 3, 'text': 'breastfeeding'}], 'text': ' All female participants that are pre-menopausal will be required to have a pregnancy test ; any participant who is pregnant or breastfeeding will not be enrolled in the study . '}]}, {'include': False, 'pattern': 0, 'pid': 0, 'sents': [{'display': \" Subjects who , in the investigator 's opinion , might not be suitable for the study \", 'ignore': False, 'include': False, 'logic_groups': [], 'relations': [], 'terms': [], 'text': \" Subjects who , in the investigator 's opinion , might not be suitable for the study \"}]}, {'include': False, 'pattern': 0, 'pid': 0, 'sents': [{'display': ' A hair style or head dress that prevents electrode contact with the scalp or would interfere with the stimulation ( for example : thick braids , hair weave , afro , wig ) ', 'ignore': False, 'include': False, 'logic_groups': [[], []], 'relations': [], 'terms': [], 'text': ' A hair style or head dress that prevents electrode contact with the scalp or would interfere with the stimulation ( for example : thick braids , hair weave , afro , wig ) '}]}], 'inclusion_criteria': [{'include': False, 'pattern': 0, 'pid': 0, 'sents': [{'display': ' Clinical Diagnosis of <mark data-entity=\"qualifier\">mild to</mark><mark data-entity=\"condition\">moderate AD</mark>* ', 'ignore': False, 'include': False, 'logic_groups': [], 'relations': [], 'terms': [{'categorey': 'Condition', 'end_index': 42, 'neg': False, 'start_index': 31, 'termId': 1, 'text': 'moderate AD'}], 'text': ' Clinical Diagnosis of mild to moderate AD * '}]}, {'include': False, 'pattern': 0, 'pid': 0, 'sents': [{'display': ' <mark data-entity=\"measurement\">Mini Mental State Examination ( MMSE )</mark><mark data-entity=\"value\">≥ 18</mark>', 'ignore': False, 'include': False, 'logic_groups': [], 'relations': [{'first': 0, 'second': 1, 'third': 'has_value'}], 'terms': [{'categorey': 'Measurement', 'end_index': 39, 'neg': False, 'start_index': 1, 'termId': 0, 'text': 'Mini Mental State Examination ( MMSE )'}, {'categorey': 'Value', 'end_index': 44, 'neg': False, 'start_index': 40, 'termId': 1, 'text': '≥ 18'}], 'text': ' Mini Mental State Examination ( MMSE ) ≥ 18 '}]}, {'include': False, 'pattern': 0, 'pid': 0, 'sents': [{'display': ' <mark data-entity=\"measurement\">Clinical Dementia Rating ( CDR )</mark><mark data-entity=\"value\">≥ 0.5</mark>', 'ignore': False, 'include': False, 'logic_groups': [], 'relations': [{'first': 0, 'second': 1, 'third': 'has_value'}], 'terms': [{'categorey': 'Measurement', 'end_index': 33, 'neg': False, 'start_index': 1, 'termId': 0, 'text': 'Clinical Dementia Rating ( CDR )'}, {'categorey': 'Value', 'end_index': 39, 'neg': False, 'start_index': 34, 'termId': 1, 'text': '≥ 0.5'}], 'text': ' Clinical Dementia Rating ( CDR ) ≥ 0.5 '}]}, {'include': False, 'pattern': 0, 'pid': 0, 'sents': [{'display': ' <mark data-entity=\"condition\">Demonstration</mark>or history of <mark data-entity=\"condition\">memory impairments</mark>. ', 'ignore': False, 'include': False, 'logic_groups': [[0]], 'relations': [], 'terms': [{'categorey': 'Condition', 'end_index': 14, 'neg': False, 'start_index': 1, 'termId': 0, 'text': 'Demonstration'}, {'categorey': 'Condition', 'end_index': 47, 'neg': False, 'start_index': 29, 'termId': 1, 'text': 'memory impairments'}], 'text': ' Demonstration or history of memory impairments . '}]}, {'include': False, 'pattern': 0, 'pid': 0, 'sents': [{'display': \" Confirmation of diagnosis will be made by the study MD based on a holistic consideration of the participant 's cognitive evaluation and history . \", 'ignore': False, 'include': False, 'logic_groups': [], 'relations': [], 'terms': [], 'text': \" Confirmation of diagnosis will be made by the study MD based on a holistic consideration of the participant 's cognitive evaluation and history . \"}]}, {'include': False, 'pattern': 0, 'pid': 0, 'sents': [{'display': ' <mark data-entity=\"qualifier\">Amyloid</mark><mark data-entity=\"procedure\">positive PET imaging</mark>', 'ignore': False, 'include': False, 'logic_groups': [], 'relations': [], 'terms': [{'categorey': 'Procedure', 'end_index': 29, 'neg': False, 'start_index': 9, 'termId': 1, 'text': 'positive PET imaging'}], 'text': ' Amyloid positive PET imaging '}]}, {'include': False, 'pattern': 0, 'pid': 0, 'sents': [{'display': ' At <mark data-entity=\"value\">least 45 years old</mark>', 'ignore': False, 'include': False, 'logic_groups': [], 'relations': [{'first': 1, 'second': 0, 'third': 'has_value'}], 'terms': [{'categorey': 'Value', 'end_index': 22, 'neg': False, 'start_index': 4, 'termId': 0, 'text': 'least 45 years old'}, {'categorey': 'Demographic', 'end_index': -1, 'neg': False, 'start_index': -1, 'termId': 1, 'text': 'age'}], 'text': ' At least 45 years old '}]}, {'include': False, 'pattern': 0, 'pid': 0, 'sents': [{'display': ' On a <mark data-entity=\"observation\">stable dose</mark>of <mark data-entity=\"procedure\">medications</mark>for <mark data-entity=\"condition\">memory loss</mark>including <mark data-entity=\"drug\">cholinesterase inhibitors</mark>( e.g. <mark data-entity=\"drug\">donepezil</mark>, <mark data-entity=\"drug\">rivastigmine</mark>or <mark data-entity=\"drug\">memantine</mark>) as defined as 6 consecutive weeks of <mark data-entity=\"procedure\">treatment</mark>at an unchanging dose ', 'ignore': False, 'include': False, 'logic_groups': [[5, 4, 6]], 'relations': [], 'terms': [{'categorey': 'Observation', 'end_index': 17, 'neg': False, 'start_index': 6, 'termId': 0, 'text': 'stable dose'}, {'categorey': 'Procedure', 'end_index': 32, 'neg': False, 'start_index': 21, 'termId': 1, 'text': 'medications'}, {'categorey': 'Condition', 'end_index': 48, 'neg': False, 'start_index': 37, 'termId': 2, 'text': 'memory loss'}, {'categorey': 'Drug', 'end_index': 84, 'neg': False, 'start_index': 59, 'termId': 3, 'text': 'cholinesterase inhibitors'}, {'categorey': 'Drug', 'end_index': 101, 'neg': False, 'start_index': 92, 'termId': 4, 'text': 'donepezil'}, {'categorey': 'Drug', 'end_index': 116, 'neg': False, 'start_index': 104, 'termId': 5, 'text': 'rivastigmine'}, {'categorey': 'Drug', 'end_index': 129, 'neg': False, 'start_index': 120, 'termId': 6, 'text': 'memantine'}, {'categorey': 'Procedure', 'end_index': 178, 'neg': False, 'start_index': 169, 'termId': 7, 'text': 'treatment'}], 'text': ' On a stable dose of medications for memory loss including cholinesterase inhibitors ( e.g. donepezil , rivastigmine or memantine ) as defined as 6 consecutive weeks of treatment at an unchanging dose '}]}, {'include': False, 'pattern': 0, 'pid': 0, 'sents': [{'display': ' Minimum of completed 8th grade education ', 'ignore': False, 'include': False, 'logic_groups': [], 'relations': [], 'terms': [], 'text': ' Minimum of completed 8th grade education '}]}, {'include': False, 'pattern': 0, 'pid': 0, 'sents': [{'display': ' <mark data-entity=\"negation_cue\">No</mark><mark data-entity=\"observation\">history</mark>of <mark data-entity=\"condition\">intellectual disability</mark>', 'ignore': False, 'include': False, 'logic_groups': [], 'relations': [], 'terms': [{'categorey': 'Observation', 'end_index': 11, 'neg': True, 'start_index': 4, 'termId': 1, 'text': 'history'}, {'categorey': 'Condition', 'end_index': 38, 'neg': True, 'start_index': 15, 'termId': 2, 'text': 'intellectual disability'}], 'text': ' No history of intellectual disability '}]}], 'initial_event': [], 'initial_event_constraint': {'daysAfter': 0, 'daysBefore': 0, 'limitTo': 'All'}}}\n"
     ]
    }
   ],
   "source": [
    "import json\n",
    "import pandas as pd\n",
    "\n",
    "with open(\"criteria2query.json\", \"r\") as read_file:\n",
    "    data = json.load(read_file)\n",
    "\n",
    "trial = pd.DataFrame.from_dict(data)    \n",
    "print (data)"
   ]
  },
  {
   "cell_type": "markdown",
   "metadata": {},
   "source": [
    "trial[0,0] is the exclusion criteria\n",
    "trial[1,0] is the inclusion criteria"
   ]
  },
  {
   "cell_type": "code",
   "execution_count": 118,
   "metadata": {},
   "outputs": [
    {
     "name": "stdout",
     "output_type": "stream",
     "text": [
      "{'categorey': 'Condition', 'end_index': 47, 'neg': False, 'start_index': 27, 'termId': 1, 'text': 'controlled migraines'}\n"
     ]
    }
   ],
   "source": [
    "exclusion = trial.iat[0,0]\n",
    "inclusion = trial.iat[1,0]\n",
    "print (exclusion[0].get('sents')[0].get('terms')[0])"
   ]
  },
  {
   "cell_type": "code",
   "execution_count": 119,
   "metadata": {},
   "outputs": [],
   "source": [
    "m = []\n",
    "for e in exclusion:\n",
    "    phrase = e.get('sents')[0].get('text')\n",
    "    q = []\n",
    "    for t in e.get('sents')[0].get('terms'):\n",
    "        entity = t.get('text')\n",
    "        domain = t.get('categorey')\n",
    "        q.append([entity, domain])\n",
    "    m.append({phrase:q})\n",
    "\n",
    "for i in inclusion:\n",
    "    phrase = i.get('sents')[0].get('text')\n",
    "    q = []\n",
    "    for t in i.get('sents')[0].get('terms'):\n",
    "        entity = t.get('text')\n",
    "        domain = t.get('categorey')\n",
    "        q.append([entity, domain])\n",
    "    m.append({phrase:q})"
   ]
  },
  {
   "cell_type": "code",
   "execution_count": 120,
   "metadata": {},
   "outputs": [
    {
     "data": {
      "text/plain": [
       "[{' Current history of poorly controlled migraines including chronic medication for migraine prevention ': [['controlled migraines',\n",
       "    'Condition'],\n",
       "   ['chronic medication', 'Drug'],\n",
       "   ['migraine', 'Condition']]},\n",
       " {' Current or past history of any neurological disorder other than dementia , such as epilepsy , stroke ( cortical stroke ) , progressive neurologic disease ( e.g. multiple sclerosis ) or intracranial brain lesions ; and history of previous neurosurgery or head trauma that resulted in residual neurologic impairment . ': [['neurological disorder',\n",
       "    'Condition'],\n",
       "   ['dementia', 'Condition'],\n",
       "   ['epilepsy', 'Condition'],\n",
       "   ['stroke', 'Condition'],\n",
       "   ['cortical stroke', 'Condition'],\n",
       "   ['progressive neurologic disease', 'Condition'],\n",
       "   ['multiple sclerosis', 'Condition'],\n",
       "   ['intracranial brain lesions', 'Condition'],\n",
       "   ['neurosurgery', 'Procedure'],\n",
       "   ['head trauma', 'Condition'],\n",
       "   ['residual neurologic impairment', 'Condition'],\n",
       "   ['Current', 'Temporal'],\n",
       "   ['previous', 'Temporal']]},\n",
       " {' Non-cortical disease such as confluence white matter changes ( including lacunar infarcts < 1cm ) and asymptomatic , subacute , cerebellar infarcts may be included upon review of a medically responsible neurologist . ': [['Non-cortical disease',\n",
       "    'Condition'],\n",
       "   ['white matter changes', 'Measurement'],\n",
       "   ['lacunar infarcts', 'Measurement'],\n",
       "   ['asymptomatic', 'Condition'],\n",
       "   ['cerebellar infarcts', 'Condition'],\n",
       "   ['< 1cm', 'Value']]},\n",
       " {' Past or current history of major depression , bipolar disorder or psychotic disorders , or any other major psychiatric condition . ': [['history',\n",
       "    'Observation'],\n",
       "   ['major depression', 'Condition'],\n",
       "   ['bipolar', 'Condition'],\n",
       "   ['bipolar disorder', 'Condition'],\n",
       "   ['psychotic disorders', 'Condition'],\n",
       "   ['major psychiatric condition', 'Condition'],\n",
       "   ['current', 'Temporal']]},\n",
       " {' Contraindication for undergoing MRI or receiving TMS or tACS , ': [['Contraindication',\n",
       "    'Condition'],\n",
       "   ['Magnetic Resonance Imaging', 'Procedure'],\n",
       "   ['Transcranial magnetic stimulation', 'Procedure']]},\n",
       " {' > 50 mSv of radiation exposure for research within the past year ( PET imaging exclusion ) ': [['radiation',\n",
       "    'Procedure'],\n",
       "   ['exposure', 'Condition'],\n",
       "   ['PET imaging exclusion', 'Procedure'],\n",
       "   ['> 50 mSv', 'Value'],\n",
       "   ['within the past year', 'Temporal']]},\n",
       " {' History of fainting spells of unknown or undetermined etiology that might constitute seizures . ': [['fainting',\n",
       "    'Condition'],\n",
       "   ['unknown', 'Observation'],\n",
       "   ['seizures', 'Condition']]},\n",
       " {' History of seizures , diagnosis of epilepsy , history of abnormal ( epileptiform ) EEG or immediate ( 1st degree relative ) family history of epilepsy ; with the exception of a single seizure of benign etiology ( e.g. febrile seizure ) in the judgment of the investigator . ': [['seizures',\n",
       "    'Condition'],\n",
       "   ['epilepsy', 'Condition'],\n",
       "   ['Electroencephalography', 'Procedure'],\n",
       "   ['single seizure of benign etiology', 'Condition'],\n",
       "   ['febrile seizure', 'Condition']]},\n",
       " {' Chronic ( particularly ) uncontrolled medical conditions that may cause a medical emergency in case of a provoked seizure ( cardiac malformation , cardiac dysrhythmia , asthma , etc. ) . ': [['uncontrolled medical conditions',\n",
       "    'Condition'],\n",
       "   ['seizure', 'Condition'],\n",
       "   ['cardiac', 'Condition'],\n",
       "   ['asthma', 'Condition']]},\n",
       " {' Metal implants ( excluding dental fillings ) or devices such as pacemaker , medication pump , nerve stimulator , TENS unit , ventriculo-peritoneal shunt , cochlear implant , unless cleared by the study MD. . ': [['Metal implants',\n",
       "    'Procedure'],\n",
       "   ['devices', 'Procedure'],\n",
       "   ['pacemaker', 'Procedure'],\n",
       "   ['medication pump', 'Drug'],\n",
       "   ['cochlear implant', 'Procedure']]},\n",
       " {' Substance abuse or dependence within the past six months . ': [['Substance abuse',\n",
       "    'Condition'],\n",
       "   ['within the past six months', 'Temporal']]},\n",
       " {\" Medications will be reviewed by the responsible MD and a decision about inclusion will be made based on the following : The patient 's past medical history , drug dose , history of recent medication changes or duration of treatment , and combination of CNS active drugs . \": [['Medications',\n",
       "    'Procedure'],\n",
       "   ['drug dose', 'Condition'],\n",
       "   ['medication changes', 'Condition'],\n",
       "   ['treatment', 'Procedure'],\n",
       "   ['CNS active drugs', 'Drug'],\n",
       "   ['recent', 'Temporal']]},\n",
       " {' All female participants that are pre-menopausal will be required to have a pregnancy test ; any participant who is pregnant or breastfeeding will not be enrolled in the study . ': [['female',\n",
       "    'Demographic'],\n",
       "   ['pregnancy', 'Observation'],\n",
       "   ['pregnant', 'Condition'],\n",
       "   ['breastfeeding', 'Condition']]},\n",
       " {\" Subjects who , in the investigator 's opinion , might not be suitable for the study \": []},\n",
       " {' A hair style or head dress that prevents electrode contact with the scalp or would interfere with the stimulation ( for example : thick braids , hair weave , afro , wig ) ': []},\n",
       " {' Clinical Diagnosis of mild to moderate AD * ': [['moderate AD',\n",
       "    'Condition']]},\n",
       " {' Mini Mental State Examination ( MMSE ) ≥ 18 ': [['Mini Mental State Examination ( MMSE )',\n",
       "    'Measurement'],\n",
       "   ['≥ 18', 'Value']]},\n",
       " {' Clinical Dementia Rating ( CDR ) ≥ 0.5 ': [['Clinical Dementia Rating ( CDR )',\n",
       "    'Measurement'],\n",
       "   ['≥ 0.5', 'Value']]},\n",
       " {' Demonstration or history of memory impairments . ': [['Demonstration',\n",
       "    'Condition'],\n",
       "   ['memory impairments', 'Condition']]},\n",
       " {\" Confirmation of diagnosis will be made by the study MD based on a holistic consideration of the participant 's cognitive evaluation and history . \": []},\n",
       " {' Amyloid positive PET imaging ': [['positive PET imaging', 'Procedure']]},\n",
       " {' At least 45 years old ': [['least 45 years old', 'Value'],\n",
       "   ['age', 'Demographic']]},\n",
       " {' On a stable dose of medications for memory loss including cholinesterase inhibitors ( e.g. donepezil , rivastigmine or memantine ) as defined as 6 consecutive weeks of treatment at an unchanging dose ': [['stable dose',\n",
       "    'Observation'],\n",
       "   ['medications', 'Procedure'],\n",
       "   ['memory loss', 'Condition'],\n",
       "   ['cholinesterase inhibitors', 'Drug'],\n",
       "   ['donepezil', 'Drug'],\n",
       "   ['rivastigmine', 'Drug'],\n",
       "   ['memantine', 'Drug'],\n",
       "   ['treatment', 'Procedure']]},\n",
       " {' Minimum of completed 8th grade education ': []},\n",
       " {' No history of intellectual disability ': [['history', 'Observation'],\n",
       "   ['intellectual disability', 'Condition']]}]"
      ]
     },
     "execution_count": 120,
     "metadata": {},
     "output_type": "execute_result"
    }
   ],
   "source": [
    "m"
   ]
  },
  {
   "cell_type": "code",
   "execution_count": null,
   "metadata": {
    "collapsed": true
   },
   "outputs": [],
   "source": []
  }
 ],
 "metadata": {
  "kernelspec": {
   "display_name": "Python 3",
   "language": "python",
   "name": "python3"
  },
  "language_info": {
   "codemirror_mode": {
    "name": "ipython",
    "version": 3
   },
   "file_extension": ".py",
   "mimetype": "text/x-python",
   "name": "python",
   "nbconvert_exporter": "python",
   "pygments_lexer": "ipython3",
   "version": "3.6.3"
  }
 },
 "nbformat": 4,
 "nbformat_minor": 2
}
